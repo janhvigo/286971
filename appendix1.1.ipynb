{
 "cells": [
  {
   "cell_type": "markdown",
   "metadata": {},
   "source": [
    "### Data Collection"
   ]
  },
  {
   "cell_type": "code",
   "execution_count": 4,
   "metadata": {},
   "outputs": [
    {
     "name": "stdout",
     "output_type": "stream",
     "text": [
      "Fetching articles from 2013 to 2024...\n"
     ]
    }
   ],
   "source": [
    "import requests\n",
    "import csv\n",
    "import os\n",
    "\n",
    "# Replace with your actual New York Times API key\n",
    "API_KEY = '2igOgJ38GRvTfJ4dRmSHGCL0jJmtN1hA' \n",
    "BASE_URL = 'https://api.nytimes.com/svc/search/v2/articlesearch.json'\n",
    "\n",
    "def fetch_articles(query, start_year, end_year):\n",
    "    articles = []\n",
    "    page = 0\n",
    "    \n",
    "    while True:\n",
    "        params = {\n",
    "            'api-key': API_KEY,\n",
    "            'q': query,\n",
    "            'begin_date': f'{start_year}0101',\n",
    "            'end_date': f'{end_year}1231',\n",
    "            'page': page\n",
    "        }\n",
    "        \n",
    "        response = requests.get(BASE_URL, params=params)\n",
    "        data = response.json()\n",
    "        \n",
    "        if 'response' not in data or 'docs' not in data['response']:\n",
    "            break\n",
    "\n",
    "        docs = data['response']['docs']\n",
    "        if not docs:\n",
    "            break\n",
    "\n",
    "        articles.extend(docs)\n",
    "        page += 1\n",
    "\n",
    "    return articles\n",
    "\n",
    "def save_to_csv(query, articles):\n",
    "    file_exists = os.path.isfile('newsdata.csv')\n",
    "    \n",
    "    with open('newsdata.csv', mode='a', newline='', encoding='utf-8') as file:\n",
    "        writer = csv.writer(file)\n",
    "        \n",
    "        # Write the header only if the file does not exist\n",
    "        if not file_exists:\n",
    "            writer.writerow(['Query', 'Headline', 'Publication Date', 'Snippet', 'URL'])\n",
    "        \n",
    "        for article in articles:\n",
    "            headline = article.get('headline', {}).get('main', 'No headline')\n",
    "            pub_date = article.get('pub_date', 'No publication date')\n",
    "            snippet = article.get('snippet', 'No snippet')\n",
    "            web_url = article.get('web_url', 'No URL')\n",
    "            \n",
    "            writer.writerow([query, headline, pub_date, snippet, web_url])\n",
    "\n",
    "\n",
    "def main():\n",
    "    queries = [\n",
    "        \"A.I.\",\n",
    "        \"Artificial Intelligence\",\n",
    "        \"Augmented reality\",\n",
    "        \"Automation\",\n",
    "        \"Chatbot\",\n",
    "        \"Data Science\",\n",
    "        \"Deepfake\",\n",
    "        \"GPT\",\n",
    "        \"M.L.\",\n",
    "        \"Machine Learning\",\n",
    "        \"Natural Language Processing\",\n",
    "        \"NLP\",\n",
    "        \"Virtual Reality\"\n",
    "    ]\n",
    "\n",
    "    start_year = 2013\n",
    "    end_year = 2024\n",
    "\n",
    "    print(f\"Fetching articles from {start_year} to {end_year}...\")\n",
    "    for query in queries:\n",
    "        articles = fetch_articles(query, start_year, end_year)\n",
    "    \n",
    "        \n",
    "        for article in articles:\n",
    "            metadata = {\n",
    "                'headline': article.get('headline', {}).get('main', 'No headline'),\n",
    "                'pub_date': article.get('pub_date', 'No publication date'),\n",
    "                'snippet': article.get('snippet', 'No snippet'),\n",
    "                'web_url': article.get('web_url', 'No URL')\n",
    "            }\n",
    "        save_to_csv(query, articles)\n",
    "\n",
    "main()"
   ]
  },
  {
   "cell_type": "markdown",
   "metadata": {},
   "source": [
    "### Priliminary Data Cleaning"
   ]
  },
  {
   "cell_type": "code",
   "execution_count": 7,
   "metadata": {},
   "outputs": [
    {
     "name": "stdout",
     "output_type": "stream",
     "text": [
      "CSV file sorted and duplicates removed. Saved as 'data.csv'\n"
     ]
    }
   ],
   "source": [
    "import pandas as pd\n",
    "\n",
    "df = pd.read_csv('newsdata.csv')\n",
    "\n",
    "df['Publication Date'] = pd.to_datetime(df['Publication Date'], errors='coerce')\n",
    "\n",
    "df.sort_values(by='Publication Date', inplace=True)\n",
    "df.to_csv('data.csv', index=False)\n",
    "\n",
    "print(\"CSV file sorted and duplicates removed. Saved as 'data.csv'\")\n"
   ]
  }
 ],
 "metadata": {
  "kernelspec": {
   "display_name": "base",
   "language": "python",
   "name": "python3"
  },
  "language_info": {
   "codemirror_mode": {
    "name": "ipython",
    "version": 3
   },
   "file_extension": ".py",
   "mimetype": "text/x-python",
   "name": "python",
   "nbconvert_exporter": "python",
   "pygments_lexer": "ipython3",
   "version": "3.9.5"
  }
 },
 "nbformat": 4,
 "nbformat_minor": 2
}
